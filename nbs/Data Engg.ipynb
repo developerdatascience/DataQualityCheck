{
 "cells": [
  {
   "cell_type": "code",
   "execution_count": 5,
   "id": "359e0983-f102-42b5-b922-78218cfd34df",
   "metadata": {},
   "outputs": [],
   "source": [
    "from pyspark.sql import SparkSession\n",
    "from pyspark.sql import functions as F\n",
    "from pyspark.sql import DataFrame\n",
    "from pyspark.sql.types import DataType\n",
    "from typing import Dict, Union, Any"
   ]
  },
  {
   "cell_type": "code",
   "execution_count": 2,
   "id": "e1be6ea5-225e-41f2-b90e-85fa73d60175",
   "metadata": {},
   "outputs": [
    {
     "name": "stderr",
     "output_type": "stream",
     "text": [
      "Setting default log level to \"WARN\".\n",
      "To adjust logging level use sc.setLogLevel(newLevel). For SparkR, use setLogLevel(newLevel).\n",
      "24/11/14 21:37:21 WARN NativeCodeLoader: Unable to load native-hadoop library for your platform... using builtin-java classes where applicable\n",
      "24/11/14 21:37:32 WARN GarbageCollectionMetrics: To enable non-built-in garbage collector(s) List(G1 Concurrent GC), users should configure it(them) to spark.eventLog.gcMetrics.youngGenerationGarbageCollectors or spark.eventLog.gcMetrics.oldGenerationGarbageCollectors\n"
     ]
    }
   ],
   "source": [
    "spark = SparkSession.builder.appName(\"DataQuality\").getOrCreate()"
   ]
  },
  {
   "cell_type": "code",
   "execution_count": null,
   "id": "fef3cebf-f855-40e0-871d-4443f7921123",
   "metadata": {},
   "outputs": [],
   "source": [
    "class DataQuality:\n",
    "    def __init__(self, \n",
    "                 df: DataFrame, \n",
    "                 expected_schema: Dict[str, DataType]\n",
    "                ) -> None:\n",
    "        self.df = df\n",
    "        self.expected_schema = expected_schema\n",
    "        self.results: List[Dict[str, Any]] = []\n",
    "\n",
    "    def check_null_values(self) -> List[Dict[str, Any]]:\n",
    "        pass\n",
    "\n",
    "    def check_uniqueness(self) -> List[Dict[str, Any]]:\n",
    "        pass\n",
    "\n",
    "    "
   ]
  },
  {
   "cell_type": "code",
   "execution_count": null,
   "id": "d752d54b",
   "metadata": {},
   "outputs": [
    {
     "ename": "",
     "evalue": "",
     "output_type": "error",
     "traceback": [
      "\u001b[1;31mThe kernel failed to start due to the missing module 'imp'. Consider installing this module.\n",
      "\u001b[1;31mClick <a href='https://aka.ms/kernelFailuresMissingModule'>here</a> for more info."
     ]
    }
   ],
   "source": [
    "!pip3 install dataqualitychecks"
   ]
  },
  {
   "cell_type": "code",
   "execution_count": null,
   "id": "eb7d3f5e",
   "metadata": {},
   "outputs": [],
   "source": []
  }
 ],
 "metadata": {
  "kernelspec": {
   "display_name": "qualipy-2PmpFO5e-py3.13",
   "language": "python",
   "name": "python3"
  },
  "language_info": {
   "codemirror_mode": {
    "name": "ipython",
    "version": 3
   },
   "file_extension": ".py",
   "mimetype": "text/x-python",
   "name": "python",
   "nbconvert_exporter": "python",
   "pygments_lexer": "ipython3",
   "version": "3.13.0"
  }
 },
 "nbformat": 4,
 "nbformat_minor": 5
}
