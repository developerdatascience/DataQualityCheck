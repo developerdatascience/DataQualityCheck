{
 "cells": [
  {
   "cell_type": "code",
   "execution_count": 21,
   "id": "329c120b-4801-48a5-94f8-8c52ae6b9871",
   "metadata": {},
   "outputs": [],
   "source": [
    "from typing import Any, Union\n",
    "import pytest"
   ]
  },
  {
   "cell_type": "code",
   "execution_count": 11,
   "id": "3c9fdf34-8ca8-423a-a525-4dcefdb74bca",
   "metadata": {},
   "outputs": [],
   "source": [
    "def addition(*args: Union[int, float]) ->Union[int, float]:\n",
    "    total = 0\n",
    "    for i in args:\n",
    "        total +=i\n",
    "    return total"
   ]
  },
  {
   "cell_type": "code",
   "execution_count": 13,
   "id": "59241bea-2621-433a-af9b-a19c9e31f2ab",
   "metadata": {},
   "outputs": [
    {
     "data": {
      "text/plain": [
       "10.120000000000001"
      ]
     },
     "execution_count": 13,
     "metadata": {},
     "output_type": "execute_result"
    }
   ],
   "source": [
    "addition(2, 3, 5.12)"
   ]
  },
  {
   "cell_type": "code",
   "execution_count": 18,
   "id": "c9cc071a-eb37-4be7-b442-9f97231578fb",
   "metadata": {},
   "outputs": [],
   "source": [
    "def subtract(*args: Union[int, float]) ->Union[int, float]:\n",
    "    if not args:\n",
    "        raise ValueError(\"Atleast one value is required\")\n",
    "    net_value: Union[int, float] = args[0]\n",
    "    for i in args[1:]:\n",
    "        net_value -= i\n",
    "    return net_value\n",
    "    \n",
    "    "
   ]
  },
  {
   "cell_type": "code",
   "execution_count": 19,
   "id": "46f0ce03-3837-48cf-a8b2-7cf2da265644",
   "metadata": {},
   "outputs": [
    {
     "data": {
      "text/plain": [
       "-1"
      ]
     },
     "execution_count": 19,
     "metadata": {},
     "output_type": "execute_result"
    }
   ],
   "source": [
    "subtract(2, 3)"
   ]
  },
  {
   "cell_type": "code",
   "execution_count": 20,
   "id": "ee7e5846-6e85-464d-a7f5-978cc9b1ec32",
   "metadata": {},
   "outputs": [],
   "source": [
    "import pyspark"
   ]
  },
  {
   "cell_type": "code",
   "execution_count": 23,
   "id": "889ea15d-ae0d-4320-bdac-e0ebdf631bbc",
   "metadata": {},
   "outputs": [],
   "source": [
    "@pytest.mark.parametrize(\"params\", [\n",
    "    {\"a\":4, \"b\": 4, \"c\":4, \"expected\": 12},\n",
    "    {\"a\":5, \"b\": 5, \"c\":5, \"expected\": 15},\n",
    "    {\"a\":1, \"b\": 2, \"c\":3, \"expected\": 6}\n",
    "])\n",
    "def test_addition(params):\n",
    "    assert addition(params[\"a\"], params[\"b\"], params[\"c\"]) == params[\"expected\"]"
   ]
  },
  {
   "cell_type": "code",
   "execution_count": null,
   "id": "a692af8a-41ad-4676-abab-4e9025d8b023",
   "metadata": {},
   "outputs": [],
   "source": []
  }
 ],
 "metadata": {
  "kernelspec": {
   "display_name": "Python 3 (ipykernel)",
   "language": "python",
   "name": "python3"
  },
  "language_info": {
   "codemirror_mode": {
    "name": "ipython",
    "version": 3
   },
   "file_extension": ".py",
   "mimetype": "text/x-python",
   "name": "python",
   "nbconvert_exporter": "python",
   "pygments_lexer": "ipython3",
   "version": "3.13.0"
  }
 },
 "nbformat": 4,
 "nbformat_minor": 5
}
